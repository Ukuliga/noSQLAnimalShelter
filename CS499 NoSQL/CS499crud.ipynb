{
 "cells": [
  {
   "cell_type": "code",
   "execution_count": null,
   "metadata": {},
   "outputs": [],
   "source": [
    "from pymongo import MongoClient"
   ]
  },
  {
   "cell_type": "code",
   "execution_count": null,
   "metadata": {},
   "outputs": [],
   "source": [
    "class CRUD:\n",
    "    def __init__(self, db_name, collection_name):\n",
    "        self.client = MongoClient('mongodb://localhost:27017/')\n",
    "        self.db = self.client[db_name]\n",
    "        self.collection = self.db[collection_name]\n",
    "    \n",
    "    def create_document(self, document):\n",
    "        \"\"\"Inserts a new document into the collection.\"\"\"\n",
    "        result = self.collection.insert_one(document)\n",
    "        return result.inserted_id\n",
    "    \n",
    "    def read_document(self, query):\n",
    "        \"\"\"Retrieves a document from the collection based on the query.\"\"\"\n",
    "        document = self.collection.find_one(query)\n",
    "        return document\n",
    "    \n",
    "    def update_document(self, query, new_values):\n",
    "        \"\"\"Updates a document in the collection based on the query.\"\"\"\n",
    "        result = self.collection.update_one(query, {\"$set\": new_values})\n",
    "        return result.modified_count\n",
    "    \n",
    "    def delete_document(self, query):\n",
    "        \"\"\"Deletes a document from the collection based on the query.\"\"\"\n",
    "        result = self.collection.delete_one(query)\n",
    "        return result.deleted_count"
   ]
  }
 ],
 "metadata": {
  "kernelspec": {
   "display_name": "Python 3",
   "language": "python",
   "name": "python3"
  },
  "language_info": {
   "codemirror_mode": {
    "name": "ipython",
    "version": 3
   },
   "file_extension": ".py",
   "mimetype": "text/x-python",
   "name": "python",
   "nbconvert_exporter": "python",
   "pygments_lexer": "ipython3",
   "version": "3.8.5"
  }
 },
 "nbformat": 4,
 "nbformat_minor": 4
}
